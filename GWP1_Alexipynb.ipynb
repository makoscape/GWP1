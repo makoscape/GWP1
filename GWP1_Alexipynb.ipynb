{
  "nbformat": 4,
  "nbformat_minor": 0,
  "metadata": {
    "colab": {
      "provenance": [],
      "toc_visible": true
    },
    "kernelspec": {
      "name": "python3",
      "display_name": "Python 3"
    },
    "language_info": {
      "name": "python"
    }
  },
  "cells": [
    {
      "cell_type": "code",
      "execution_count": null,
      "metadata": {
        "colab": {
          "base_uri": "https://localhost:8080/"
        },
        "id": "mkhu9iAhTmwq",
        "outputId": "6b7e9132-1c29-4fc8-d391-c4c5c11eca6b"
      },
      "outputs": [
        {
          "output_type": "stream",
          "name": "stdout",
          "text": [
            "Drive already mounted at /content/drive; to attempt to forcibly remount, call drive.mount(\"/content/drive\", force_remount=True).\n"
          ]
        }
      ],
      "source": [
        "# Load libraries\n",
        "import matplotlib.pyplot as plt\n",
        "import numpy as np\n",
        "import pandas as pd\n",
        "from scipy.integrate import quad\n",
        "from scipy.optimize import brute, fmin\n",
        "from scipy.interpolate import splev, splrep\n",
        "import math\n",
        "from scipy.stats import lognorm, norm\n",
        "#from numba import jit\n",
        "\n",
        "# To load data from google drive. Remove/сomment if run outside colab\n",
        "from google.colab import drive\n",
        "drive.mount('/content/drive')\n",
        "\n",
        "#Hide warnings\n",
        "import warnings\n",
        "warnings.filterwarnings('ignore')\n",
        "\n",
        "# This is used to display results of calcibrations\n",
        "from prettytable import PrettyTable"
      ]
    },
    {
      "cell_type": "markdown",
      "source": [
        "# Step 1"
      ],
      "metadata": {
        "id": "d4Q9NdHpTzfk"
      }
    },
    {
      "cell_type": "markdown",
      "source": [
        "# Data for calibration"
      ],
      "metadata": {
        "id": "JuTpFmLaT1vV"
      }
    },
    {
      "cell_type": "code",
      "source": [
        "# Data for calibration\n",
        "path = \"/content/drive/MyDrive/WQU/MScFE 622_Stochastic_Modeling_GWP1_Option data_Sheet1.csv\"\n",
        "data = pd.read_csv(path)\n",
        "S0 = 232.90\n",
        "data['r'] = 0.015\n",
        "data['T'] = data.apply(lambda x: x['Days to maturity']/250, axis=1) # Time to maturity in years, assuming 250 trading days/year\n",
        "\n",
        "# Split dataset into options with 15 and 60 DtM\n",
        "call_options_15_dtm = data.loc[(data['Days to maturity'] == 15) & (data['Type'] == 'C')]\n",
        "put_options_15_dtm = data.loc[(data['Days to maturity'] == 15) & (data['Type'] == 'P')]\n",
        "call_options_60_dtm = data.loc[(data['Days to maturity'] == 60) & (data['Type'] == 'C')]\n",
        "put_options_60_dtm = data.loc[(data['Days to maturity'] == 60) & (data['Type'] == 'P')]\n",
        "call_options_15_dtm.reset_index(inplace=True, drop=True)\n",
        "put_options_15_dtm.reset_index(inplace=True, drop=True)\n",
        "call_options_60_dtm.reset_index(inplace=True, drop=True)\n",
        "put_options_60_dtm.reset_index(inplace=True, drop=True)\n",
        "\n",
        "#Data is divided into 4 datasets: puts and calls with 15 days to maturity and with 60 days to maturity"
      ],
      "metadata": {
        "id": "ScbkgYi1Trvx"
      },
      "execution_count": null,
      "outputs": []
    },
    {
      "cell_type": "markdown",
      "source": [
        "## A - Calibrating Heston (1993) model via Lewis (2001)"
      ],
      "metadata": {
        "id": "n5lQKrVsU31U"
      }
    },
    {
      "cell_type": "code",
      "source": [],
      "metadata": {
        "id": "vh4w2oqtUIYB"
      },
      "execution_count": null,
      "outputs": []
    },
    {
      "cell_type": "markdown",
      "source": [
        "## B - Calibrating Heston (1993) model via Carr and Madan (1999)"
      ],
      "metadata": {
        "id": "kLp4Lg8HVDMI"
      }
    },
    {
      "cell_type": "code",
      "source": [
        "def CM_Heston_opt(S0, K, T, r, kappa_v, theta_v, sigma_v, rho, v0, opt_type):\n",
        "    k = np.log(K / S0)\n",
        "    g = 1  # Factor to increase accuracy\n",
        "    N = g * 4096\n",
        "    eps = (g * 150) ** -1\n",
        "    eta = 2 * np.pi / (N * eps)\n",
        "    b = 0.5 * N * eps - k\n",
        "    u = np.arange(1, N + 1, 1)\n",
        "    vo = eta * (u - 1)\n",
        "\n",
        "    # Modifications to ensure integrability\n",
        "    if S0 >= 0.95 * K:  # ITM Case\n",
        "        alpha = 1.5\n",
        "        v = vo - (alpha + 1) * 1j\n",
        "        modcharFunc = np.exp(-r * T) * (\n",
        "            H93_char_func(u, T, r, kappa_v, theta_v, sigma_v, rho, v0)\n",
        "            / (alpha**2 + alpha - vo**2 + 1j * (2 * alpha + 1) * vo)\n",
        "        )\n",
        "\n",
        "    else:\n",
        "        alpha = 1.1\n",
        "        v = (vo - 1j * alpha) - 1j\n",
        "        modcharFunc1 = np.exp(-r * T) * (\n",
        "            1 / (1 + 1j * (vo - 1j * alpha))\n",
        "            - np.exp(r * T) / (1j * (vo - 1j * alpha))\n",
        "            - H93_char_func(u, T, r, kappa_v, theta_v, sigma_v, rho, v0)\n",
        "            / ((vo - 1j * alpha) ** 2 - 1j * (vo - 1j * alpha))\n",
        "        )\n",
        "\n",
        "        v = (vo + 1j * alpha) - 1j\n",
        "\n",
        "        modcharFunc2 = np.exp(-r * T) * (\n",
        "            1 / (1 + 1j * (vo + 1j * alpha))\n",
        "            - np.exp(r * T) / (1j * (vo + 1j * alpha))\n",
        "            - H93_char_func(u, T, r, kappa_v, theta_v, sigma_v, rho, v0)\n",
        "            / ((vo + 1j * alpha) ** 2 - 1j * (vo + 1j * alpha))\n",
        "        )\n",
        "\n",
        "    # Numerical FFT Routine\n",
        "    delt = np.zeros(N)\n",
        "    delt[0] = 1\n",
        "    j = np.arange(1, N + 1, 1)\n",
        "    SimpsonW = (3 + (-1) ** j - delt) / 3\n",
        "    if S0 >= 0.95 * K:\n",
        "        FFTFunc = np.exp(1j * b * vo) * modcharFunc * eta * SimpsonW\n",
        "        payoff = (np.fft.fft(FFTFunc)).real\n",
        "        CallValueM = np.exp(-alpha * k) / np.pi * payoff\n",
        "    else:\n",
        "        FFTFunc = (\n",
        "            np.exp(1j * b * vo) * (modcharFunc1 - modcharFunc2) * 0.5 * eta * SimpsonW\n",
        "        )\n",
        "        payoff = (np.fft.fft(FFTFunc)).real\n",
        "        CallValueM = payoff / (np.sinh(alpha * k) * np.pi)\n",
        "\n",
        "    pos = int((k + b) / eps)\n",
        "    CallValue = CallValueM[pos] * S0\n",
        "    if opt_type == 'C':\n",
        "        return CallValue\n",
        "    elif opt_type == 'P':\n",
        "        return CallValue + K * np.exp(-r*T) - S0 # Modification to calculate Put option value based on put-call parity\n",
        "\n",
        "i = 0\n",
        "min_MSE = 500\n",
        "\n",
        "def H93_error_function_cm_call(p0):\n",
        "    global i, min_MSE\n",
        "    kappa_v, theta_v, sigma_v, rho, v0 = p0\n",
        "    if kappa_v < 0.0 or theta_v < 0.005 or sigma_v < 0.0 or rho < -1.0 or rho > 1.0:\n",
        "        return 500.0\n",
        "    if 2 * kappa_v * theta_v < sigma_v**2:\n",
        "        return 500.0\n",
        "    se = []\n",
        "    data = call_options_15_dtm\n",
        "    for row, option in data.iterrows():\n",
        "        model_value = CM_Heston_opt(\n",
        "            S0,\n",
        "            option[\"Strike\"],\n",
        "            option[\"T\"],\n",
        "            option[\"r\"],\n",
        "            kappa_v,\n",
        "            theta_v,\n",
        "            sigma_v,\n",
        "            rho,\n",
        "            v0,\n",
        "            'C'\n",
        "        )\n",
        "        se.append((model_value - option[\"Price\"]) ** 2)\n",
        "    MSE = sum(se) / len(se)\n",
        "    min_MSE = min(min_MSE, MSE)\n",
        "    #if i % 25 == 0:\n",
        "    #    print(\"%4d |\" % i, np.array(p0), \"| %7.3f | %7.3f\" % (MSE, min_MSE))\n",
        "    i += 1\n",
        "    return MSE\n",
        "\n",
        "def H93_error_function_cm_put(p0):\n",
        "    global i, min_MSE\n",
        "    kappa_v, theta_v, sigma_v, rho, v0 = p0\n",
        "    if kappa_v < 0.0 or theta_v < 0.005 or sigma_v < 0.0 or rho < -1.0 or rho > 1.0:\n",
        "        return 500.0\n",
        "    if 2 * kappa_v * theta_v < sigma_v**2:\n",
        "        return 500.0\n",
        "    se = []\n",
        "    data = put_options_15_dtm\n",
        "\n",
        "    for row, option in data.iterrows():\n",
        "        model_value = CM_Heston_opt(\n",
        "            S0,\n",
        "            option[\"Strike\"],\n",
        "            option[\"T\"],\n",
        "            option[\"r\"],\n",
        "            kappa_v,\n",
        "            theta_v,\n",
        "            sigma_v,\n",
        "            rho,\n",
        "            v0,\n",
        "            'P'\n",
        "        )\n",
        "        se.append((model_value - option[\"Price\"]) ** 2)\n",
        "    MSE = sum(se) / len(se)\n",
        "    min_MSE = min(min_MSE, MSE)\n",
        "    #if i % 25 == 0:\n",
        "    #    print(\"%4d |\" % i, np.array(p0), \"| %7.3f | %7.3f\" % (MSE, min_MSE))\n",
        "    i += 1\n",
        "    return MSE\n",
        "\n",
        "def H93_calibration_full_CM(opt_type):\n",
        "    # First run with brute force\n",
        "    # (scan sensible regions, for faster convergence)\n",
        "    if opt_type == \"C\":\n",
        "        p0 = brute(\n",
        "            H93_error_function_cm_call,\n",
        "        (\n",
        "            (0, 15.6, 5.0),  # kappa_v\n",
        "            (0.01, 0.041, 0.01),  # theta_v\n",
        "            (0.05, 0.551, 0.1),  # sigma_v\n",
        "            (-0.75, 0.75, 0.25),  # rho\n",
        "            (0.001, 0.031, 0.001),  # v0\n",
        "        ),\n",
        "        finish=None,\n",
        "    )\n",
        "        opt = fmin(\n",
        "            H93_error_function_cm_call, p0, xtol=0.000001, ftol=0.000001, maxiter=750, maxfun=900\n",
        "        )\n",
        "    elif opt_type == 'P':\n",
        "      p0 = brute(\n",
        "          H93_error_function_cm_put,\n",
        "        (\n",
        "            (2.5, 10.6, 5.0),  # kappa_v\n",
        "            (0.01, 0.041, 0.01),  # theta_v\n",
        "            (0.05, 0.251, 0.1),  # sigma_v\n",
        "            (-0.75, 0.01, 0.25),  # rho\n",
        "            (0.01, 0.031, 0.01), # v0\n",
        "        ),  \n",
        "      finish=None,\n",
        "    )\n",
        "      opt = fmin(\n",
        "        H93_error_function_cm_put, p0, xtol=0.000001, ftol=0.000001, maxiter=750, maxfun=900\n",
        "    )\n",
        "    return opt\n",
        "\n",
        "\n",
        "def H93_char_func(u, T, r, kappa_v, theta_v, sigma_v, rho, v0):\n",
        "    c1 = kappa_v * theta_v\n",
        "    c2 = -np.sqrt(\n",
        "        (rho * sigma_v * u * 1j - kappa_v) ** 2 - sigma_v**2 * (-u * 1j - u**2)\n",
        "    )\n",
        "    c3 = (kappa_v - rho * sigma_v * u * 1j + c2) / (\n",
        "        kappa_v - rho * sigma_v * u * 1j - c2\n",
        "    )\n",
        "    H1 = r * u * 1j * T + (c1 / sigma_v**2) * (\n",
        "        (kappa_v - rho * sigma_v * u * 1j + c2) * T\n",
        "        - 2 * np.log((1 - c3 * np.exp(c2 * T)) / (1 - c3))\n",
        "    )\n",
        "    H2 = (\n",
        "        (kappa_v - rho * sigma_v * u * 1j + c2)\n",
        "        / sigma_v**2\n",
        "        * ((1 - np.exp(c2 * T)) / (1 - c3 * np.exp(c2 * T)))\n",
        "    )\n",
        "    char_func_value = np.exp(H1 + H2 * v0)\n",
        "    return char_func_value"
      ],
      "metadata": {
        "id": "fG95iUKZU93H"
      },
      "execution_count": null,
      "outputs": []
    },
    {
      "cell_type": "code",
      "source": [
        "params_call_15_cm = H93_calibration_full_CM(\"C\")"
      ],
      "metadata": {
        "id": "ccxgyFJhY7w5"
      },
      "execution_count": null,
      "outputs": []
    },
    {
      "cell_type": "code",
      "source": [
        "params_put_15_cm = H93_calibration_full_CM(\"P\")"
      ],
      "metadata": {
        "id": "KfrooIJpc1Qu"
      },
      "execution_count": null,
      "outputs": []
    },
    {
      "cell_type": "code",
      "source": [
        "param_names = ['κᵥ', 'θᵥ', 'σᵥ', 'ρ', 'v₀']"
      ],
      "metadata": {
        "id": "tWTsbvidhFNz"
      },
      "execution_count": null,
      "outputs": []
    },
    {
      "cell_type": "code",
      "source": [
        "print(\"Model parameters for call options with 15 days to maturity (Carr and Madan apprach):\")\n",
        "table_call = PrettyTable(param_names)\n",
        "table_call.add_row(np.round(params_call_15_cm,3))\n",
        "print(table_call)"
      ],
      "metadata": {
        "colab": {
          "base_uri": "https://localhost:8080/"
        },
        "id": "xwDEwL-3Trz2",
        "outputId": "5967ec40-16d4-4bea-c08f-14073bfe73b4"
      },
      "execution_count": null,
      "outputs": [
        {
          "output_type": "stream",
          "name": "stdout",
          "text": [
            "Model parameters for call options with 15 days to maturity (Carr and Madan apprach):\n",
            "+-------+-------+-----+------+-------+\n",
            "|   κᵥ  |   θᵥ  |  σᵥ |  ρ   |   v₀  |\n",
            "+-------+-------+-----+------+-------+\n",
            "| 6.703 | 0.037 | 0.7 | -1.0 | 0.001 |\n",
            "+-------+-------+-----+------+-------+\n"
          ]
        }
      ]
    },
    {
      "cell_type": "code",
      "source": [
        "print(\"calibraion parameters for put options with 15 days to maturity (Carr and Madan apprach):\")\n",
        "table_put = PrettyTable(param_names)\n",
        "table_put.add_row(np.round(params_put_15_cm,3))\n",
        "print(table_put)"
      ],
      "metadata": {
        "colab": {
          "base_uri": "https://localhost:8080/"
        },
        "id": "e4_X83ePWbA7",
        "outputId": "4e4e6a49-e644-4ee0-869b-696c3a412526"
      },
      "execution_count": null,
      "outputs": [
        {
          "output_type": "stream",
          "name": "stdout",
          "text": [
            "calibraion parameters for put options with 15 days to maturity (Carr and Madan apprach):\n",
            "+-------+-------+-------+------+-------+\n",
            "|   κᵥ  |   θᵥ  |   σᵥ  |  ρ   |   v₀  |\n",
            "+-------+-------+-------+------+-------+\n",
            "| 9.649 | 0.008 | 0.389 | -0.0 | 0.006 |\n",
            "+-------+-------+-------+------+-------+\n"
          ]
        }
      ]
    },
    {
      "cell_type": "code",
      "source": [
        "model_prices = [CM_Heston_opt(S0, call_options_15_dtm['Strike'][i], call_options_15_dtm['T'][i], call_options_15_dtm['r'][i], *params_call_15_cm,'C') for i in range(len(call_options_15_dtm))]\n",
        "call_options_15_dtm['model_prices'] = model_prices\n",
        "y1 = call_options_15_dtm['Price']\n",
        "y2 = call_options_15_dtm['model_prices']\n",
        "x = call_options_15_dtm['Strike']\n",
        "plt.plot(x,y1, 'bo', label = \"real data\")\n",
        "plt.plot(x,y2, color='red',label = \"model\")\n",
        "plt.xlabel('Strike, USD')\n",
        "plt.ylabel('Call Option Price, USD')\n",
        "plt.legend()\n",
        "plt.show()"
      ],
      "metadata": {
        "colab": {
          "base_uri": "https://localhost:8080/",
          "height": 454
        },
        "id": "DAOjRevLTr2K",
        "outputId": "15c2301e-904f-4b7a-e332-c2fe2b78c50e"
      },
      "execution_count": null,
      "outputs": [
        {
          "output_type": "display_data",
          "data": {
            "text/plain": [
              "<Figure size 640x480 with 1 Axes>"
            ],
            "image/png": "[encoded data removed]"
          },
          "metadata": {}
        }
      ]
    },
    {
      "cell_type": "code",
      "source": [
        "model_prices = [CM_Heston_opt(S0, put_options_15_dtm['Strike'][i], put_options_15_dtm['T'][i], put_options_15_dtm['r'][i], *params_put_15_cm, 'P') for i in range(len(put_options_15_dtm))]\n",
        "put_options_15_dtm['model_prices'] = model_prices\n",
        "y1 = put_options_15_dtm['Price']\n",
        "y2 = put_options_15_dtm['model_prices']\n",
        "x = put_options_15_dtm['Strike']\n",
        "plt.plot(x,y1, 'bo', label = \"real data\")\n",
        "plt.plot(x,y2, color='red',label = \"model\")\n",
        "plt.xlabel('Strike, USD')\n",
        "plt.ylabel('Put Option Price, USD')\n",
        "plt.legend()\n",
        "plt.show()"
      ],
      "metadata": {
        "colab": {
          "base_uri": "https://localhost:8080/",
          "height": 449
        },
        "id": "MXFu_H9rWjAA",
        "outputId": "2d27ee54-105a-469b-a360-e119b60e6889"
      },
      "execution_count": null,
      "outputs": [
        {
          "output_type": "display_data",
          "data": {
            "text/plain": [
              "<Figure size 640x480 with 1 Axes>"
            ],
            "image/png": "[encoded data removed]"
          },
          "metadata": {}
        }
      ]
    },
    {
      "cell_type": "markdown",
      "source": [
        "# Step 2"
      ],
      "metadata": {
        "id": "UPR0nzqGeb6y"
      }
    },
    {
      "cell_type": "code",
      "source": [],
      "metadata": {
        "id": "Wo440lLleese"
      },
      "execution_count": null,
      "outputs": []
    }
  ]
}